{
 "cells": [
  {
   "cell_type": "markdown",
   "metadata": {},
   "source": [
    "# ELVIS Mini Example - Factory Methods\n",
    "\n",
    "This notebook demonstrates how to use ELVIS factory methods for quick EV charging simulation setup."
   ]
  },
  {
   "cell_type": "markdown",
   "metadata": {},
   "source": [
    "## Setup\n",
    "\n",
    "Import required modules and set up the environment:"
   ]
  },
  {
   "cell_type": "code",
   "execution_count": null,
   "metadata": {},
   "outputs": [],
   "source": [
    "import os\n",
    "import sys\n",
    "import datetime\n",
    "\n",
    "# Add project root to Python path\n",
    "module_path = os.path.abspath(os.path.join(\"..\"))\n",
    "if module_path not in sys.path:\n",
    "    sys.path.append(module_path)\n",
    "\n",
    "# Import ELVIS components\n",
    "from elvis.config import ScenarioConfig\n",
    "from elvis.simulate import simulate"
   ]
  },
  {
   "cell_type": "markdown",
   "metadata": {},
   "source": [
    "## Basic Factory Method Usage\n",
    "\n",
    "Create pre-configured scenarios with a single line:"
   ]
  },
  {
   "cell_type": "code",
   "execution_count": null,
   "metadata": {},
   "outputs": [],
   "source": [
    "# Create different scenario types\n",
    "office_config = ScenarioConfig.office_scenario()\n",
    "residential_config = ScenarioConfig.residential_scenario()\n",
    "gasstation_config = ScenarioConfig.gasstation_speedway_scenario()\n",
    "\n",
    "print(\"Factory method scenarios created:\")\n",
    "print(f\"Office scenario: {office_config.num_charging_events} events\")\n",
    "print(f\"Residential scenario: {residential_config.num_charging_events} events\")\n",
    "print(f\"Gas station scenario: {gasstation_config.num_charging_events} events\")"
   ]
  },
  {
   "cell_type": "markdown",
   "metadata": {},
   "source": [
    "## Customizing Factory Methods\n",
    "\n",
    "Easily modify scenarios by passing parameters:"
   ]
  },
  {
   "cell_type": "code",
   "execution_count": null,
   "metadata": {},
   "outputs": [],
   "source": [
    "# Customize number of charging events\n",
    "office_small = ScenarioConfig.office_scenario(num_charging_events=50)\n",
    "\n",
    "# Change scheduling policy\n",
    "office_fcfs = ScenarioConfig.office_scenario(scheduling_policy='FCFS')\n",
    "\n",
    "# Multiple customizations\n",
    "office_custom = ScenarioConfig.office_scenario(\n",
    "    num_charging_events=25,\n",
    "    scheduling_policy='DISCRIMINATION_FREE'\n",
    ")\n",
    "\n",
    "print(\"Customized scenarios:\")\n",
    "print(f\"Small office: {office_small.num_charging_events} events\")\n",
    "print(f\"FCFS policy: {office_fcfs.scheduling_policy}\")\n",
    "print(f\"Custom: {office_custom.num_charging_events} events, {office_custom.scheduling_policy} policy\")"
   ]
  },
  {
   "cell_type": "markdown",
   "metadata": {},
   "source": [
    "## Running a Complete Simulation\n",
    "\n",
    "From scenario creation to results analysis:"
   ]
  },
  {
   "cell_type": "code",
   "execution_count": null,
   "metadata": {},
   "outputs": [],
   "source": [
    "# 1. Create scenario\n",
    "config = ScenarioConfig.office_scenario(num_charging_events=10)\n",
    "\n",
    "# 2. Define simulation period\n",
    "start_date = \"2025-01-01 08:00:00\"\n",
    "end_date = \"2025-01-07 18:00:00\"  # One week\n",
    "resolution = \"01:00:00\"  # 1 hour resolution\n",
    "\n",
    "# 3. Create realisation and simulate\n",
    "realisation = config.create_realisation(start_date, end_date, resolution)\n",
    "results = simulate(realisation, print_progress=False)\n",
    "results.scenario = realisation\n",
    "\n",
    "# 4. Calculate metrics\n",
    "start_dt = datetime.datetime.strptime(start_date, \"%Y-%m-%d %H:%M:%S\")\n",
    "end_dt = datetime.datetime.strptime(end_date, \"%Y-%m-%d %H:%M:%S\")\n",
    "num_steps = int((end_dt - start_dt) / datetime.timedelta(hours=1)) + 1\n",
    "\n",
    "results.aggregate_load_profile(num_steps)\n",
    "\n",
    "print(\"Simulation Results:\")\n",
    "print(f\"Total energy charged: {results.total_energy_charged(num_steps):.2f} kWh\")\n",
    "print(f\"Maximum load: {results.max_load():.2f} kW\")\n",
    "print(f\"Average charging time: {results.average_charging_time().total_seconds()/3600:.2f} hours\")\n",
    "print(f\"Number of charging events: {len(realisation.charging_events)}\")"
   ]
  },
  {
   "cell_type": "markdown",
   "metadata": {},
   "source": [
    "## Comparing Scheduling Policies\n",
    "\n",
    "Easily test different charging control strategies:"
   ]
  },
  {
   "cell_type": "code",
   "execution_count": null,
   "metadata": {},
   "outputs": [],
   "source": [
    "policies = ['UNCONTROLLED', 'FCFS', 'DISCRIMINATION_FREE']\n",
    "results_comparison = {}\n",
    "\n",
    "# Simulation parameters\n",
    "start_date = \"2025-01-01 00:00:00\"\n",
    "end_date = \"2025-01-03 23:00:00\"  # Short 3-day test\n",
    "resolution = \"01:00:00\"\n",
    "\n",
    "for policy in policies:\n",
    "    print(f\"Running {policy} simulation...\")\n",
    "    \n",
    "    # Create scenario with specific policy\n",
    "    config = ScenarioConfig.office_scenario(\n",
    "        num_charging_events=20,\n",
    "        scheduling_policy=policy\n",
    "    )\n",
    "    \n",
    "    # Simulate\n",
    "    realisation = config.create_realisation(start_date, end_date, resolution)\n",
    "    result = simulate(realisation, print_progress=False)\n",
    "    result.scenario = realisation\n",
    "    \n",
    "    # Calculate metrics\n",
    "    start_dt = datetime.datetime.strptime(start_date, \"%Y-%m-%d %H:%M:%S\")\n",
    "    end_dt = datetime.datetime.strptime(end_date, \"%Y-%m-%d %H:%M:%S\")\n",
    "    num_steps = int((end_dt - start_dt) / datetime.timedelta(hours=1)) + 1\n",
    "    \n",
    "    result.aggregate_load_profile(num_steps)\n",
    "    \n",
    "    results_comparison[policy] = {\n",
    "        'total_energy': result.total_energy_charged(num_steps),\n",
    "        'max_load': result.max_load(),\n",
    "        'avg_charge_time': result.average_charging_time().total_seconds() / 3600\n",
    "    }\n",
    "\n",
    "# Display results\n",
    "print(\"\\nScheduling Policy Comparison:\")\n",
    "print(\"Policy\".ljust(20) + \"Energy (kWh)\".ljust(15) + \"Max Load (kW)\".ljust(15) + \"Avg Time (h)\")\n",
    "print(\"-\" * 65)\n",
    "for policy, metrics in results_comparison.items():\n",
    "    print(f\"{policy:<20}{metrics['total_energy']:<15.2f}{metrics['max_load']:<15.2f}{metrics['avg_charge_time']:<15.2f}\")"
   ]
  },
  {
   "cell_type": "markdown",
   "metadata": {},
   "source": [
    "## Available Factory Methods\n",
    "\n",
    "ELVIS provides 12 pre-configured scenarios:"
   ]
  },
  {
   "cell_type": "code",
   "execution_count": null,
   "metadata": {},
   "outputs": [],
   "source": [
    "factory_methods = [\n",
    "    \"office_scenario\",\n",
    "    \"residential_scenario\", \n",
    "    \"wohnblock_scenario\",\n",
    "    \"cabstand_scenario\",\n",
    "    \"customer_parking_day_scenario\",\n",
    "    \"customer_parking_night_scenario\",\n",
    "    \"gasstation_speedway_scenario\",\n",
    "    \"kundenparkplatz_scenario\",\n",
    "    \"office_fleet_scenario\",\n",
    "    \"pnr_scenario\",\n",
    "    \"roadside_scenario\",\n",
    "    \"tankstelle_city_scenario\"\n",
    "]\n",
    "\n",
    "print(\"Available factory methods:\")\n",
    "for method in factory_methods:\n",
    "    print(f\"  - ScenarioConfig.{method}()\")\n",
    "\n",
    "print(f\"\\nTotal: {len(factory_methods)} predefined scenarios\")"
   ]
  },
  {
   "cell_type": "markdown",
   "metadata": {},
   "source": [
    "## Key Benefits\n",
    "\n",
    "Factory methods provide:\n",
    "\n",
    "1. **Quick Start**: Create scenarios with one line of code\n",
    "2. **Validation**: Pre-validated, working configurations\n",
    "3. **Customization**: Easy parameter modification\n",
    "4. **Consistency**: Standardized scenarios for research\n",
    "5. **Research Ready**: Focus on analysis, not configuration\n",
    "\n",
    "For advanced customization beyond factory method parameters, you can still access all ScenarioConfig methods and properties after creation."
   ]
  }
 ],
 "metadata": {
  "kernelspec": {
   "display_name": "Python 3",
   "language": "python",
   "name": "python3"
  },
  "language_info": {
   "codemirror_mode": {
    "name": "ipython",
    "version": 3
   },
   "file_extension": ".py",
   "name": "python",
   "nbconvert_exporter": "python",
   "pygments_lexer": "ipython3",
   "version": "3.12.0"
  }
 },
 "nbformat": 4,
 "nbformat_minor": 4
}