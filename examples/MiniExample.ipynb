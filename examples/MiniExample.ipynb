{
  "cells": [
    {
      "cell_type": "markdown",
      "metadata": {},
      "source": [
        "# Mini Example for Elvis"
      ]
    },
    {
      "cell_type": "markdown",
      "metadata": {},
      "source": [
        "### Import the module\n",
        "Make the modules available for the Notebook"
      ]
    },
    {
      "cell_type": "code",
      "execution_count": 93,
      "metadata": {},
      "outputs": [],
      "source": [
        "import os\n",
        "import sys\n",
        "\n",
        "module_path = os.path.abspath(os.path.join(\"..\"))\n",
        "if module_path not in sys.path:\n",
        "    sys.path.append(module_path)"
      ]
    },
    {
      "cell_type": "markdown",
      "metadata": {},
      "source": [
        "Import the ConfigBuilder and the simulate method"
      ]
    },
    {
      "cell_type": "code",
      "execution_count": 94,
      "metadata": {},
      "outputs": [],
      "source": [
        "from elvis.config import ScenarioConfig\n",
        "from elvis.simulate import simulate\n",
        "from elvis.utility.elvis_general import create_time_steps"
      ]
    },
    {
      "cell_type": "markdown",
      "metadata": {},
      "source": [
        "### Set up parameters for the simulation"
      ]
    },
    {
      "cell_type": "markdown",
      "metadata": {},
      "source": [
        "#### Time parameters\n",
        "* The start and end date are either of type datetime.datetime or as a str in format: '%y-%m-%d %H:%M:%S'.<br/><br/>\n",
        "* The resolution (time in between two time steps) is either given as datetime.timedelta or as a str in format: '%H:%M:%S'<br/><br/>\n",
        "* The time parameters are then put into a tuple in following order:<br/>\n",
        "(start date, end date, resolution).\n",
        "\n",
        "Time parameters fixate a Scenario to a timeline. This is necessary to be able to transform a stochastic ScenarioConfig into a specific simulatable ScenarioRealisation. They are needed to sample charging events because each charging event is bound to a specific arrival time."
      ]
    },
    {
      "cell_type": "code",
      "execution_count": 95,
      "metadata": {},
      "outputs": [],
      "source": [
        "import datetime\n",
        "\n",
        "start_date = \"2025-01-01 20:00:00\"  # format: '%y-%m-%d %H:%M:%S'\n",
        "end_date = datetime.datetime(2025, 1, 12, 19, 0)\n",
        "resolution = \"01:0:0\"\n",
        "time_params = (start_date, end_date, resolution)"
      ]
    },
    {
      "cell_type": "markdown",
      "metadata": {},
      "source": [
        "#### Charging Event parameters\n",
        "\n",
        "Charging events have their own class in elvis: ChargingEvents. The ScenarioConfig can contain charging events taking away its stochasticity and limiting it to one realisation. If the stochasticity shall be preserved the ScenarioConfig instance stores the distributions (e.g. arrival or SOC) from which all realisations of this Scenario derive from. Therefore these distributions must be parameterised and stored in the ScenarioConfig instance.<br/>\n",
        "\n",
        "##### Comment:\n",
        "As of now when using an arrival distribution only weekly distributions are accepted. The arrival distribution starts at a Monday at 0:00."
      ]
    },
    {
      "cell_type": "code",
      "execution_count": 96,
      "metadata": {},
      "outputs": [],
      "source": [
        "num_charging_events = 5\n",
        "\n",
        "arrival_distribution = [\n",
        "    0 for x in range(168)\n",
        "]  # create a list with 168 (hours of the week) entries (all 0)\n",
        "arrival_distribution[8] = 1  # mondays at 8 o clock cars arrive\n",
        "arrival_distribution[10] = 1  # modays at 10 o clock cars arrive\n",
        "\n",
        "\n",
        "average_parking_time = 4\n",
        "standard_deviation_parking_time = 1\n",
        "mean_soc = 0.4\n",
        "std_deviation_soc = 0.1"
      ]
    },
    {
      "cell_type": "markdown",
      "metadata": {},
      "source": [
        "#### Vehicle Types\n",
        "\n",
        "Each charging event has a vehicle type. This vehicle type contains the key parameters of the vehcile that describe its behaviour at the charging infrastructure. The required parameters are shown below."
      ]
    },
    {
      "cell_type": "code",
      "execution_count": 97,
      "metadata": {},
      "outputs": [],
      "source": [
        "# Vehicle types\n",
        "min_power = 0\n",
        "max_power = 150\n",
        "capacity = 35.8\n",
        "efficiency = 1\n",
        "model = \"e-Golf\"\n",
        "brand = \"VW\"\n",
        "probability = 1\n",
        "\n",
        "vehicle_types = [\n",
        "    {\n",
        "        \"model\": model,\n",
        "        \"brand\": brand,\n",
        "        \"probability\": probability,\n",
        "        \"battery\": {\n",
        "            \"min_charge_power\": min_power,\n",
        "            \"max_charge_power\": max_power,\n",
        "            \"capacity\": capacity,\n",
        "            \"efficiency\": efficiency,\n",
        "        },\n",
        "    }\n",
        "]"
      ]
    },
    {
      "cell_type": "markdown",
      "metadata": {},
      "source": [
        "In order to simulate the dependency between SOC and max power of the vehicle two further optional parameters are introduced:\n",
        "* start_power_degradation (0 <= x <= 1)\n",
        "* max_degradation_level (0 <= x <= 1)\n",
        "\n",
        "Typically the batteries can not be charged with their rated current towards the end of a charging cycle in order to keep the voltage within limits. Therefore the current and with that the power is decreased. In Elvis only a linear relation can be modelled.\n",
        "To do so the start_power_degredation parameter configures the SOC-level at which the power degredation starts and the max_degredation_level configures the fraction of the configured max_power of the vehicle type to which the power finally degrades to when SOC=1 is reached."
      ]
    },
    {
      "cell_type": "code",
      "execution_count": 98,
      "metadata": {},
      "outputs": [],
      "source": [
        "# Vehicle type with degredation\n",
        "min_power = 0\n",
        "max_power = 150\n",
        "capacity = 35.8\n",
        "efficiency = 1\n",
        "model = \"e-Golf\"\n",
        "brand = \"VW\"\n",
        "probability = 1\n",
        "start_power_degradation = 0.8\n",
        "max_degradation_level = 0.35\n",
        "\n",
        "vehicle_types = {\n",
        "    \"model\": model,\n",
        "    \"brand\": brand,\n",
        "    \"probability\": probability,\n",
        "    \"battery\": {\n",
        "        \"min_charge_power\": min_power,\n",
        "        \"max_charge_power\": max_power,\n",
        "        \"capacity\": capacity,\n",
        "        \"efficiency\": efficiency,\n",
        "    },\n",
        "    \"start_power_degradation\": start_power_degradation,\n",
        "    \"max_degradation_level\": max_degradation_level,\n",
        "}"
      ]
    },
    {
      "cell_type": "markdown",
      "metadata": {},
      "source": [
        "#### Infrastructure Design\n",
        "##### Manually generating infrastructure (completely custombisable)\n",
        "The infrastructure design is assumed to be a tree it is passed as a nested dict structure. <br/>\n",
        "Nodes in the tree structure are described as a dict with the following keys:\n",
        "* id: str (not necessary anymore)\n",
        "* max_power: float/int (maximal power that is allowed to pass that node)\n",
        "* min_power: float/int (minimal power that must go through the node if the power is not 0)\n",
        "* children*: list (containing dicts for each child of the previous node, excluded in charging point dicts)\n",
        "\n",
        "There are three types of nodes in the tree structure: transformers, charging stations and charging points. Children of\n",
        "a transformer always are charging stations. Children of charging stations always are charging points. The infrastructure design always starts with a dict for the transformer.\n",
        "\n",
        "\n",
        "*The children key is always named after the node type of its children. For a transformer: charging stations, for a charging_station: charging points. Charging point dicts do not contain a children key."
      ]
    },
    {
      "cell_type": "code",
      "execution_count": 99,
      "metadata": {},
      "outputs": [],
      "source": [
        "infrastructure = {\n",
        "    \"transformers\": [\n",
        "        {\n",
        "            \"id\": \"transformer1\",\n",
        "            \"max_power\": 100,\n",
        "            \"min_power\": 10,\n",
        "            \"charging_stations\": [\n",
        "                {\n",
        "                    \"id\": \"cs1\",\n",
        "                    \"max_power\": 10,\n",
        "                    \"min_power\": 1,\n",
        "                    \"charging_points\": [\n",
        "                        {\"id\": \"cp1\", \"max_power\": 5, \"min_power\": 0.5},\n",
        "                        {\"id\": \"cp2\", \"max_power\": 5, \"min_power\": 0.5},\n",
        "                    ],\n",
        "                },\n",
        "                {\n",
        "                    \"id\": \"cs2\",\n",
        "                    \"max_power\": 10,\n",
        "                    \"min_power\": 1,\n",
        "                    \"charging_points\": [\n",
        "                        {\"id\": \"cp3\", \"max_power\": 5, \"min_power\": 0.5},\n",
        "                        {\"id\": \"cp4\", \"max_power\": 5, \"min_power\": 0.5},\n",
        "                    ],\n",
        "                },\n",
        "            ],\n",
        "        }\n",
        "    ]\n",
        "}"
      ]
    },
    {
      "cell_type": "markdown",
      "metadata": {},
      "source": [
        "##### Wallbox infrastructure\n",
        "\n",
        "To initialise a symmetric wallbox infrastructure with following characteristics a prebuild function can be used:\n",
        "\n",
        "* Same amount of charging points per charging station for all charging stations\n",
        "* Same power limits (min and max) between the same type of node (charging point/station)\n",
        "* Only one transformer\n",
        "\n",
        "\n",
        "function parameters\n",
        "def wallbox_infrastructure(num_cp, power_cp, \n",
        "                           num_cp_per_cs=1, power_cs=None, power_transformer=None, \n",
        "                           min_power_cp=0, min_power_cs=0, min_power_transformer=0):\n",
        "\n",
        "###### Required:\n",
        "* num_cp: (int): Number of charging points.\n",
        "* power_cp: (int or float): Max power per charging point.\n",
        "\n",
        "###### Optional:\n",
        "* num_cp_per_cs: (int) Number of charging points per charging station. Default: 1\n",
        "* power_cs: (int or float): Max power of the charging station. Default: power_cp * num_cp_per_cs\n",
        "* power_transformer: (int or float): Max power of the transformer. Default: num_cs * num_cp_per_cs * power_cp\n",
        "* min_power_cp: (int or float): Minimum power (if not 0) for the charging point. Default: 0\n",
        "* min_power_cs: (int or float): Minimum power (if not 0) for the charging station. Default: 0\n",
        "* min_power_transformer: (int or float) : Minimum power (if not 0) for the charging station. Default: 0"
      ]
    },
    {
      "cell_type": "code",
      "execution_count": 100,
      "metadata": {},
      "outputs": [
        {
          "data": {
            "text/plain": [
              "{'transformers': [{'charging_stations': [{'min_power': 0,\n",
              "     'max_power': 7.4,\n",
              "     'charging_points': [{'min_power': 0, 'max_power': 3.7, 'id': 'cp1'},\n",
              "      {'min_power': 0, 'max_power': 3.7, 'id': 'cp2'}],\n",
              "     'id': 'cs1'},\n",
              "    {'min_power': 0,\n",
              "     'max_power': 7.4,\n",
              "     'charging_points': [{'min_power': 0, 'max_power': 3.7, 'id': 'cp3'},\n",
              "      {'min_power': 0, 'max_power': 3.7, 'id': 'cp4'}],\n",
              "     'id': 'cs2'}],\n",
              "   'id': 'transformer1',\n",
              "   'min_power': 0,\n",
              "   'max_power': 14.8}]}"
            ]
          },
          "execution_count": 100,
          "metadata": {},
          "output_type": "execute_result"
        }
      ],
      "source": [
        "from elvis.set_up_infrastructure import wallbox_infrastructure\n",
        "\n",
        "infrastructure_wallbox = wallbox_infrastructure(4, 3.7, num_cp_per_cs=2)\n",
        "infrastructure_wallbox"
      ]
    },
    {
      "cell_type": "markdown",
      "metadata": {},
      "source": [
        "#### Integrating a storage"
      ]
    },
    {
      "cell_type": "code",
      "execution_count": 101,
      "metadata": {},
      "outputs": [],
      "source": [
        "# Start by copying wallbox infrastructure as base\n",
        "infrastructure_storage = infrastructure_wallbox\n",
        "# Initialise storage dict\n",
        "storage = {\"capacity\": 100, \"max_power\": 50, \"min_power\": 0}\n",
        "# Add storage to transformer dict\n",
        "infrastructure_storage[\"transformers\"][0][\"storage\"] = storage"
      ]
    },
    {
      "cell_type": "markdown",
      "metadata": {},
      "source": [
        "#### Other parameters\n",
        "* queue_length: Maximal number of cars that wait at the infrastructure if no charging point is available. The connect to a charging point if one becomes available before their leaving time is reached.\n",
        "* disconnect_by_time: Decision variable when to disconnect a car from a charging point. <br/>\n",
        "True: The cars disconnect once their leaving time is reached in total disregard of the current SOC. As a result the charging point might be blocked even though the car is fully charged.<br/>\n",
        "False: The cars disconnect when their SOC target is reached or their leaving time is reached whatever comes first.\n",
        "* scheduling_policy: The policy that assigns the power to the cars. Can be passed as a str (UC, FCFS, DF, OPT) or as an instance of the schduling policy classes (see sched/schedulers.py).\n",
        "\n",
        "##### Scheduling policies\n",
        "* UC - Uncontrolled: Node power limits are not checked. Each car is charging with max power only depending on vehicle and charging point limits. Charging station and transformer limits are expected to be exceeded.\n",
        "* FCFS - First Come First Served: Power on nodes are kept within limits. Power assignment is prioritised by vehicle arrival time.\n",
        "* DF - Discrimination Free: Power on nodes are kept within limits. Power assignment is not prioritised but spreaded equally between all connected vehicles. Implementation note: To reduce complexity vehicles are charged in turns with parameterised length (config.df_charging_period). In case only one car can be charged but two are connected first car 1 is charged with max power for the length of df_charging_period followed by car 2. This will be the order even though both cars could be charged with half the power at the same time."
      ]
    },
    {
      "cell_type": "code",
      "execution_count": 102,
      "metadata": {},
      "outputs": [],
      "source": [
        "queue_length = 2  # optional as per default: 0\n",
        "disconnect_by_time = True  # as per default: True\n",
        "scheduling_policy = \"FCFS\"  # only UC, DF and FCFS are implemented\n",
        "transformer_preload = [\n",
        "    0\n",
        "] * 10000  # not implemented fully -> if more than 10k simulation steps adjust len of list\n",
        "opening_hours = None  # Default: None. To set times pass tuple: (opening_hour, closing_hour). Connected vehicles will be disconected at closing hour. New vehicles can only be connected in between opening hours."
      ]
    },
    {
      "cell_type": "markdown",
      "metadata": {},
      "source": [
        "#### Not implemented"
      ]
    },
    {
      "cell_type": "code",
      "execution_count": 103,
      "metadata": {},
      "outputs": [],
      "source": [
        "emissions_scenario = None\n",
        "renewables_scenario = None"
      ]
    },
    {
      "cell_type": "markdown",
      "metadata": {},
      "source": [
        "### Assign values to the ScenarioConfig\n",
        "\n",
        "The with_VARIABLE-NAME methods are used to assign either new values to a ConfigBuilder or to change values from a previous simulation run.<br/>\n",
        "\n",
        "A realisation is a simulatable configuration without stochasticity. So from all distributions samples were drawn."
      ]
    },
    {
      "cell_type": "code",
      "execution_count": 104,
      "metadata": {},
      "outputs": [],
      "source": [
        "config = ScenarioConfig()\n",
        "\n",
        "config.with_arrival_distribution(arrival_distribution)\n",
        "# Methods can be chained\n",
        "config.with_queue_length(queue_length).with_scheduling_policy(\n",
        "    scheduling_policy\n",
        ").with_disconnect_by_time(disconnect_by_time).with_num_charging_events(num_charging_events)\n",
        "\n",
        "config.with_mean_park(average_parking_time)\n",
        "config.with_std_deviation_park(standard_deviation_parking_time)\n",
        "config.with_mean_soc(mean_soc)\n",
        "config.with_std_deviation_soc(std_deviation_soc)\n",
        "config.with_vehicle_types(**vehicle_types)\n",
        "\n",
        "config.with_infrastructure(infrastructure)\n",
        "\n",
        "config.with_transformer_preload(transformer_preload)\n",
        "\n",
        "# create realisation given a start and an end date and as a resolution\n",
        "realisation = config.create_realisation(start_date, end_date, resolution)"
      ]
    },
    {
      "cell_type": "code",
      "execution_count": 105,
      "metadata": {},
      "outputs": [
        {
          "data": {
            "text/plain": [
              "[<elvis.charging_event.ChargingEvent at 0x116ba3f50>,\n",
              " <elvis.charging_event.ChargingEvent at 0x116abeae0>,\n",
              " <elvis.charging_event.ChargingEvent at 0x116a05d00>,\n",
              " <elvis.charging_event.ChargingEvent at 0x116a05040>,\n",
              " <elvis.charging_event.ChargingEvent at 0x116a043e0>,\n",
              " <elvis.charging_event.ChargingEvent at 0x1164c45c0>,\n",
              " <elvis.charging_event.ChargingEvent at 0x116b56810>,\n",
              " <elvis.charging_event.ChargingEvent at 0x116abeab0>]"
            ]
          },
          "execution_count": 105,
          "metadata": {},
          "output_type": "execute_result"
        }
      ],
      "source": [
        "realisation.charging_events"
      ]
    },
    {
      "cell_type": "markdown",
      "metadata": {},
      "source": [
        "### Load an existing ConfigBuilder\n",
        "\n",
        "ConfigBuilder instances can be saved and reloaded. They are stored in data/config_builder/.\n",
        "\n",
        "To read in a yaml file the builder class method from_yaml can be called by passing the yaml string. The data of the yaml string is then assigned to the fields of the builder instance.\n",
        "\n",
        "TODO: As of now all necessary fields must be in the yaml file. It should only read the existing ones and check when build() is called whether everything necessary is there. Or maybe when simulate() is called."
      ]
    },
    {
      "cell_type": "code",
      "execution_count": 112,
      "metadata": {},
      "outputs": [
        {
          "name": "stdout",
          "output_type": "stream",
          "text": [
            "Vehicle types: <generator object ScenarioConfig.__str__.<locals>.<genexpr> at 0x116a49a40>Mean parking time: 4\n",
            "Std deviation of parking time: 0.5\n",
            "Mean value of the SOC distribution: 0.6\n",
            "Std deviation of the SOC distribution: 0.2\n",
            "Max parking time: 24\n",
            "Number of charging events per week: 500\n",
            "Vehicles are disconnected only depending on their parking time\n",
            "Queue length: 0\n",
            "Opening hours: None\n",
            "Scheduling policy: Uncontrolled\n",
            "\n"
          ]
        }
      ],
      "source": [
        "import yaml\n",
        "\n",
        "yaml_file_path = r\"../data/config_builder/kundenparkplatz.yaml\"\n",
        "with open(yaml_file_path) as file:\n",
        "    yaml_str = yaml.full_load(file)\n",
        "\n",
        "config_from_yaml = ScenarioConfig.from_yaml(yaml_str)\n",
        "print(config_from_yaml)\n",
        "\n",
        "realisation_from_yaml = config_from_yaml.create_realisation(start_date, end_date, resolution)"
      ]
    },
    {
      "cell_type": "markdown",
      "metadata": {},
      "source": [
        "### Simulate\n",
        "\n",
        "The simulate method receives a config and performs the simulation. It returns an instance of class ElvisResult containing the results of the simulation."
      ]
    },
    {
      "cell_type": "code",
      "execution_count": 107,
      "metadata": {},
      "outputs": [
        {
          "name": "stdout",
          "output_type": "stream",
          "text": [
            "Progress: 0.0 %\n",
            "Progress: 5.0 %\n",
            "Progress: 10.0 %\n",
            "Progress: 15.0 %\n",
            "Progress: 20.0 %\n",
            "Progress: 25.0 %\n",
            "Progress: 30.0 %\n",
            "Progress: 35.0 %\n",
            "Progress: 40.0 %\n",
            "Progress: 45.0 %\n",
            "Progress: 50.0 %\n",
            "Progress: 55.0 %\n",
            "Progress: 59.0 %\n",
            "Progress: 64.0 %\n",
            "Progress: 69.0 %\n",
            "Progress: 74.0 %\n",
            "Progress: 79.0 %\n",
            "Progress: 84.0 %\n",
            "Progress: 89.0 %\n",
            "Progress: 94.0 %\n",
            "Progress: 99.0 %\n"
          ]
        }
      ],
      "source": [
        "results = simulate(realisation)"
      ]
    },
    {
      "cell_type": "markdown",
      "metadata": {},
      "source": [
        "### Create a load profile from Result\n",
        "\n",
        "The power assigned to each charging point is stored in the field power_charging_points. It is of type dict with the IDs of the charging points as keys and dicts containing floats of the assigned powers of those charging points with integers as keys representing the simulation step. This allows already though to create a load profile."
      ]
    },
    {
      "cell_type": "code",
      "execution_count": 108,
      "metadata": {},
      "outputs": [
        {
          "data": {
            "text/plain": [
              "<Axes: xlabel='date'>"
            ]
          },
          "execution_count": 108,
          "metadata": {},
          "output_type": "execute_result"
        },
        {
          "data": {
            "image/png": "[encoded data removed]",
            "text/plain": [
              "<Figure size 640x480 with 1 Axes>"
            ]
          },
          "metadata": {},
          "output_type": "display_data"
        }
      ],
      "source": [
        "import pandas as pd\n",
        "\n",
        "from elvis.utility.elvis_general import num_time_steps\n",
        "\n",
        "start = realisation.start_date\n",
        "end = realisation.end_date\n",
        "res = realisation.resolution\n",
        "load_profile = results.aggregate_load_profile(num_time_steps(start, end, res))\n",
        "df = pd.DataFrame(zip(create_time_steps(start, end, res), load_profile, strict=False))\n",
        "\n",
        "df.rename(columns={0: \"date\", 1: \"power\"}, inplace=True)\n",
        "df.set_index(\"date\", inplace=True)\n",
        "\n",
        "df.plot()"
      ]
    },
    {
      "cell_type": "code",
      "execution_count": 109,
      "metadata": {},
      "outputs": [
        {
          "data": {
            "text/plain": [
              "datetime.timedelta(seconds=3600)"
            ]
          },
          "execution_count": 109,
          "metadata": {},
          "output_type": "execute_result"
        }
      ],
      "source": [
        "realisation.resolution"
      ]
    },
    {
      "cell_type": "markdown",
      "metadata": {},
      "source": [
        "#### Calcluating KPIs"
      ]
    },
    {
      "cell_type": "markdown",
      "metadata": {},
      "source": [
        "#### Max simultaneity\n",
        "Max occuring power / Max possible power <br/>\n",
        "Max possible power in this case is the sum over all charging point limits. Note that this limit may never be reached since the power can not only be limited by the charging points but the transformer or the charging stations aswell."
      ]
    },
    {
      "cell_type": "code",
      "execution_count": 88,
      "metadata": {},
      "outputs": [
        {
          "data": {
            "text/plain": [
              "1.0"
            ]
          },
          "execution_count": 88,
          "metadata": {},
          "output_type": "execute_result"
        }
      ],
      "source": [
        "results.simultaneity_factor(config.infrastructure)"
      ]
    },
    {
      "cell_type": "markdown",
      "metadata": {},
      "source": [
        "Or with results.config being set."
      ]
    },
    {
      "cell_type": "code",
      "execution_count": 110,
      "metadata": {},
      "outputs": [
        {
          "data": {
            "text/plain": [
              "1.0"
            ]
          },
          "execution_count": 110,
          "metadata": {},
          "output_type": "execute_result"
        }
      ],
      "source": [
        "results.scenario = realisation\n",
        "results.simultaneity_factor()"
      ]
    },
    {
      "cell_type": "markdown",
      "metadata": {},
      "source": [
        "#### Further KPIs"
      ]
    },
    {
      "cell_type": "code",
      "execution_count": 111,
      "metadata": {},
      "outputs": [
        {
          "name": "stdout",
          "output_type": "stream",
          "text": [
            "Total energy charged across all charging points in kWh: 97.633\n",
            "\n",
            "Highest load of all charging points in kW: 20.0\n",
            "\n",
            "Average charging time (not parking time) in minutes: 150\n",
            "\n"
          ]
        }
      ],
      "source": [
        "print(\n",
        "    \"Total energy charged across all charging points in kWh: \"\n",
        "    + str(results.total_energy_charged())\n",
        "    + \"\\n\"\n",
        ")\n",
        "print(\"Highest load of all charging points in kW: \" + str(results.max_load()) + \"\\n\")\n",
        "print(\n",
        "    \"Average charging time (not parking time) in minutes: \"\n",
        "    + str(int(results.average_charging_time().total_seconds() / 60))\n",
        "    + \"\\n\"\n",
        ")"
      ]
    },
    {
      "cell_type": "markdown",
      "metadata": {},
      "source": [
        "#### Electricity Costs\n",
        "##### Fixed costs\n",
        "Meaning same price independent of the hour of consumption\n",
        "\n",
        "Electricity rates are expected to be in \u20ac/kWh"
      ]
    },
    {
      "cell_type": "code",
      "execution_count": 91,
      "metadata": {},
      "outputs": [
        {
          "ename": "TypeError",
          "evalue": "ElvisResult.total_energy_charged() got an unexpected keyword argument 'resolution'",
          "output_type": "error",
          "traceback": [
            "\u001b[0;31m---------------------------------------------------------------------------\u001b[0m",
            "\u001b[0;31mTypeError\u001b[0m                                 Traceback (most recent call last)",
            "Cell \u001b[0;32mIn[91], line 1\u001b[0m\n\u001b[0;32m----> 1\u001b[0m \u001b[43mresults\u001b[49m\u001b[38;5;241;43m.\u001b[39;49m\u001b[43melectricity_costs_fix\u001b[49m\u001b[43m(\u001b[49m\u001b[43melectricity_rate\u001b[49m\u001b[38;5;241;43m=\u001b[39;49m\u001b[38;5;241;43m0.4\u001b[39;49m\u001b[43m)\u001b[49m\n",
            "File \u001b[0;32m~/code/EnergyAIBerlin/elvis/elvis/result.py:248\u001b[0m, in \u001b[0;36mElvisResult.electricity_costs_fix\u001b[0;34m(self, electricity_rate)\u001b[0m\n\u001b[1;32m    234\u001b[0m \u001b[38;5;28;01mdef\u001b[39;00m\u001b[38;5;250m \u001b[39m\u001b[38;5;21melectricity_costs_fix\u001b[39m(\u001b[38;5;28mself\u001b[39m, electricity_rate):\n\u001b[1;32m    235\u001b[0m \u001b[38;5;250m    \u001b[39m\u001b[38;5;124;03m\"\"\"Calculates the total electricity costs based on the electricity received from the grid\u001b[39;00m\n\u001b[1;32m    236\u001b[0m \u001b[38;5;124;03m    assuming a constant electricity rate.\u001b[39;00m\n\u001b[1;32m    237\u001b[0m \n\u001b[0;32m   (...)\u001b[0m\n\u001b[1;32m    246\u001b[0m \u001b[38;5;124;03m        - PV integration\u001b[39;00m\n\u001b[1;32m    247\u001b[0m \u001b[38;5;124;03m    \"\"\"\u001b[39;00m\n\u001b[0;32m--> 248\u001b[0m     total_energy \u001b[38;5;241m=\u001b[39m \u001b[38;5;28;43mself\u001b[39;49m\u001b[38;5;241;43m.\u001b[39;49m\u001b[43mtotal_energy_charged\u001b[49m\u001b[43m(\u001b[49m\u001b[43mresolution\u001b[49m\u001b[38;5;241;43m=\u001b[39;49m\u001b[38;5;28;43mself\u001b[39;49m\u001b[38;5;241;43m.\u001b[39;49m\u001b[43mscenario\u001b[49m\u001b[38;5;241;43m.\u001b[39;49m\u001b[43mresolution\u001b[49m\u001b[43m)\u001b[49m\n\u001b[1;32m    249\u001b[0m     electricity_costs \u001b[38;5;241m=\u001b[39m total_energy \u001b[38;5;241m*\u001b[39m electricity_rate\n\u001b[1;32m    251\u001b[0m     \u001b[38;5;28;01mreturn\u001b[39;00m electricity_costs\n",
            "\u001b[0;31mTypeError\u001b[0m: ElvisResult.total_energy_charged() got an unexpected keyword argument 'resolution'"
          ]
        }
      ],
      "source": [
        "results.electricity_costs_fix(electricity_rate=0.4)"
      ]
    },
    {
      "cell_type": "markdown",
      "metadata": {},
      "source": [
        "##### Variable costs\n",
        "Electricity price depends on the hour of the day"
      ]
    },
    {
      "cell_type": "code",
      "execution_count": 70,
      "metadata": {},
      "outputs": [
        {
          "data": {
            "text/plain": [
              "40.05723149247707"
            ]
          },
          "execution_count": 70,
          "metadata": {},
          "output_type": "execute_result"
        }
      ],
      "source": [
        "import random\n",
        "\n",
        "# List containing the prices for each hour of the day\n",
        "var_rate = [random.random() for x in range(24)]\n",
        "results.electricity_costs_24_variable(variable_electricity_rate=var_rate)"
      ]
    }
  ],
  "metadata": {
    "kernelspec": {
      "display_name": ".venv",
      "language": "python",
      "name": "python3"
    },
    "language_info": {
      "codemirror_mode": {
        "name": "ipython",
        "version": 3
      },
      "file_extension": ".py",
      "mimetype": "text/x-python",
      "name": "python",
      "nbconvert_exporter": "python",
      "pygments_lexer": "ipython3",
      "version": "3.12.11"
    }
  },
  "nbformat": 4,
  "nbformat_minor": 4
}
